{
 "cells": [
  {
   "cell_type": "markdown",
   "metadata": {},
   "source": [
    "# Slackbot für die nationalen Wahlen\n",
    "Dieses Script liefert dem Züri-Ressort des TA während dem Wahlsonntag aktuelle Resultate und Hochrechnungen. Ziel ist es, das Team in der Live-Berichterstattung zu unterstützen. Neue Resultate gehen weniger unter und können schnelle eingeordnet werden. Damit das Script wiederholt abgespielt wird, liegt es auf einem server und wird von einem Cronjob aktiviert."
   ]
  },
  {
   "cell_type": "code",
   "execution_count": null,
   "metadata": {},
   "outputs": [],
   "source": [
    "import pandas as pd\n",
    "import requests\n",
    "import time \n",
    "import datetime\n",
    "import json\n",
    "import numpy\n",
    "import re\n",
    "import os\n",
    "import slack\n",
    "from slack_api_token import SLACK_API_TOKEN\n",
    "from stat_api_urls import url_nr_hoch\n",
    "from stat_api_urls import url_nr_resultat\n",
    "from stat_api_urls import url_nr_resultat_kandidierende\n",
    "from stat_api_urls import url_sr_hoch\n",
    "from stat_api_urls import url_sr_resultat_gemeinde\n",
    "from stat_api_urls import url_sr_resultat"
   ]
  },
  {
   "cell_type": "code",
   "execution_count": 2,
   "metadata": {},
   "outputs": [],
   "source": [
    "#client = slack.WebClient(token=SLACK_API_TOKEN)\n",
    "client = slack.WebClient(\n",
    "    token=SLACK_API_TOKEN,\n",
    "    run_async=True\n",
    "    )"
   ]
  },
  {
   "cell_type": "markdown",
   "metadata": {},
   "source": [
    "# Nationalrat Hochrechnungen\n",
    "Sende Updates, wenn neue Hochrechnung vorliegt (Personen oder Parteien)"
   ]
  },
  {
   "cell_type": "code",
   "execution_count": 5,
   "metadata": {},
   "outputs": [],
   "source": [
    "response = requests.get(url_nr_hoch)\n",
    "data = response.json()"
   ]
  },
  {
   "cell_type": "markdown",
   "metadata": {},
   "source": [
    "## Parteien"
   ]
  },
  {
   "cell_type": "code",
   "execution_count": 6,
   "metadata": {},
   "outputs": [],
   "source": [
    "time.sleep(1)\n",
    "lastupdate = open(\"hr_update_nr_parteien.txt\",\"r\").read()"
   ]
  },
  {
   "cell_type": "code",
   "execution_count": 7,
   "metadata": {},
   "outputs": [],
   "source": [
    "data_available = len(data['hochrechnung_parteien']['hochrechnung_fuer_parteien'])"
   ]
  },
  {
   "cell_type": "code",
   "execution_count": 8,
   "metadata": {},
   "outputs": [
    {
     "name": "stdout",
     "output_type": "stream",
     "text": [
      "no news\n"
     ]
    }
   ],
   "source": [
    "if data['hochrechnung_parteien']['hochrechnung_fuer_parteien_metadaten']['zeitpunkt_der_hochrechnung'] != lastupdate and data_available>0:\n",
    "    hochrechnung_nr_zeitpunkt = data['hochrechnung_parteien']['hochrechnung_fuer_parteien_metadaten']['zeitpunkt_der_hochrechnung']\n",
    "    hochrechnung_nr_titel = \"Nationalrat (Parteien): \" + hochrechnung_nr_zeitpunkt\n",
    "    hochrechnung_nr_titel\n",
    "    hoch_parteien = data['hochrechnung_parteien']['hochrechnung_fuer_parteien']\n",
    "    hoch_nr_text = str()\n",
    "    for partei in hoch_parteien:\n",
    "        partei_nr_text = \"*\"+str(partei['parteicode']) + \"*: \" + str(partei['waehlerproz_2019']) + \"% (\" +  str(partei['waehlerproz_delta']) + \") und \" + str(partei['sitze_2019']) + \" Sitz(e) (\" +  str(partei['sitze_delta']) + \") \\n \"\n",
    "        hoch_nr_text = hoch_nr_text + partei_nr_text \n",
    "    hoch_nr_text = \"*```\"+hochrechnung_nr_titel+\"```* \\n\" + hoch_nr_text\n",
    "    hoch_nr_text = hoch_nr_text.replace('.',',')\n",
    "    #send-message\n",
    "    response = client.chat_postMessage(\n",
    "        channel='#wahlen19-zh-results',\n",
    "        text=hoch_nr_text)\n",
    "    #save hochrechnungszeitpunkt\n",
    "    updatefile = open(\"hr_update_nr_parteien.txt\",\"w\")#write mode \n",
    "    updatefile.write(hochrechnung_nr_zeitpunkt) \n",
    "    updatefile.close() \n",
    "\n",
    "else:\n",
    "    print('no news')"
   ]
  },
  {
   "cell_type": "markdown",
   "metadata": {},
   "source": [
    "## Personen"
   ]
  },
  {
   "cell_type": "code",
   "execution_count": 9,
   "metadata": {},
   "outputs": [
    {
     "data": {
      "text/plain": [
       "'12:10'"
      ]
     },
     "execution_count": 9,
     "metadata": {},
     "output_type": "execute_result"
    }
   ],
   "source": [
    "time.sleep(1)\n",
    "lastupdate = open(\"hr_update_nr_personen.txt\",\"r\").read()\n",
    "lastupdate"
   ]
  },
  {
   "cell_type": "code",
   "execution_count": 10,
   "metadata": {},
   "outputs": [],
   "source": [
    "data_available = len(data['hochrechnung_kandidaten']['hochrechnung_fuer_kandidaten'])"
   ]
  },
  {
   "cell_type": "code",
   "execution_count": 11,
   "metadata": {},
   "outputs": [
    {
     "name": "stdout",
     "output_type": "stream",
     "text": [
      "no news\n"
     ]
    }
   ],
   "source": [
    "if data['hochrechnung_kandidaten']['hochrechnung_fuer_kandidaten_metadaten']['zeitpunkt_der_hochrechnung'] != lastupdate and data_available>0:\n",
    "    hochrechnung_nr_personen_zeitpunkt = data['hochrechnung_kandidaten']['hochrechnung_fuer_kandidaten_metadaten']['zeitpunkt_der_hochrechnung']\n",
    "    hochrechnung_nr_personen_titel = \"Nationalrat (Personen): Hochrechnung von \" + hochrechnung_nr_personen_zeitpunkt\n",
    "    hochrechnung_nr_personen = data['hochrechnung_kandidaten']['hochrechnung_fuer_kandidaten']\n",
    "    #abgewählte, neugewählte\n",
    "    df_hr_nr_personen = pd.DataFrame(hochrechnung_nr_personen)\n",
    "    df_abgewaehlt = df_hr_nr_personen[(df_hr_nr_personen['bisher']==True) & (df_hr_nr_personen['mutmasslich_gewaehlt']==False)]\n",
    "    df_neugewaehlt = df_hr_nr_personen[(df_hr_nr_personen['bisher']==False) & (df_hr_nr_personen['mutmasslich_gewaehlt']==True)]\n",
    "    neugewaehlte = df_neugewaehlt['vorname'] + \" \" + df_neugewaehlt['name']+ \" (\" + df_neugewaehlt['parteicode'] +\") \"\n",
    "    abgewaehlte = df_abgewaehlt['vorname'] + \" \" + df_abgewaehlt['name']+ \" (\" + df_abgewaehlt['parteicode'] +\") \"\n",
    "    neugewaehlte = neugewaehlte.tolist()\n",
    "    abgewaehlte = abgewaehlte.tolist()\n",
    "    kandidaten_nr_einleitung = str(len(abgewaehlte))+\" Kandidierende müssen zittern, \" + str(len(neugewaehlte)) + \" dürfen hoffen: \\n\\n\"\n",
    "    kandidaten_nr_neu_text = str()\n",
    "    for neugewaehlt in neugewaehlte:\n",
    "        kandidaten_nr_neu_text = kandidaten_nr_neu_text+ neugewaehlt + \" \\n \"\n",
    "    kandidaten_nr_abg_text = str()\n",
    "    for abgewaehlt in abgewaehlte:\n",
    "        kandidaten_nr_abg_text = kandidaten_nr_abg_text+ abgewaehlt + \" \\n \"\n",
    "    hoch_nr_personen_text = \"*```\"+hochrechnung_nr_personen_titel+\"```*\"+ \"\\n\" + kandidaten_nr_einleitung + \"*Laut Hochrechnung abgewählt:* \\n \" + kandidaten_nr_abg_text + \"\\n *Laut Hochrechnung neu im Parlament:* \\n \" + kandidaten_nr_neu_text\n",
    "    #send-message\n",
    "    response = client.chat_postMessage(\n",
    "        channel='#wahlen19-zh-results',\n",
    "        text=hoch_nr_personen_text)\n",
    "    #save hochrechnungszeitpunkt\n",
    "    updatefile = open(\"hr_update_nr_personen.txt\",\"w\")#write mode \n",
    "    updatefile.write(hochrechnung_nr_personen_zeitpunkt) \n",
    "    updatefile.close() \n",
    "else:\n",
    "    print('no news')\n",
    "    "
   ]
  },
  {
   "cell_type": "markdown",
   "metadata": {},
   "source": [
    "# Nationalrat Resultate\n",
    "Sende Updates, wenn 10 zusätzliche Gemeinden ausgezählt sind oder das Schlussresultat"
   ]
  },
  {
   "cell_type": "code",
   "execution_count": 12,
   "metadata": {},
   "outputs": [],
   "source": [
    "time.sleep(1)"
   ]
  },
  {
   "cell_type": "code",
   "execution_count": 13,
   "metadata": {},
   "outputs": [],
   "source": [
    "response = requests.get(url_nr_resultat)\n",
    "data = response.json()"
   ]
  },
  {
   "cell_type": "code",
   "execution_count": 14,
   "metadata": {},
   "outputs": [],
   "source": [
    "schlussresultat = data['metadaten']['stand']['wahl_abgeschlossen']"
   ]
  },
  {
   "cell_type": "code",
   "execution_count": 15,
   "metadata": {},
   "outputs": [],
   "source": [
    "gebiete_ausgezaehlt = str(data['metadaten']['stand']['stand_kantonsebene_gebiete']['gebiete_abgeschlossen'])\n",
    "gebiete_total = str(data['metadaten']['stand']['stand_kantonsebene_gebiete']['gebiete_total'])"
   ]
  },
  {
   "cell_type": "code",
   "execution_count": 16,
   "metadata": {},
   "outputs": [],
   "source": [
    "resultate_parteien = data['liste_partei_auf_kantonsebene']['partei_auf_kantonsebene']\n",
    "#Nur ausgewählte Parteien\n",
    "parteiliste = ['SVP','SP','FDP','glp','CVP','GRÜNE','BDP','EVP','AL']"
   ]
  },
  {
   "cell_type": "code",
   "execution_count": 17,
   "metadata": {},
   "outputs": [],
   "source": [
    "#Differenz zum letzten Auszählungsstand ausrechnen.\n",
    "lastupdate = open(\"update_nr_parteien_muss_null_sein_am_anfang.txt\",\"r\").read()\n",
    "lastupdate = int(gebiete_ausgezaehlt) - int(lastupdate)\n",
    "done = open(\"sr_fertig.txt\",\"r\").read()"
   ]
  },
  {
   "cell_type": "code",
   "execution_count": null,
   "metadata": {},
   "outputs": [],
   "source": []
  },
  {
   "cell_type": "code",
   "execution_count": 18,
   "metadata": {},
   "outputs": [
    {
     "name": "stdout",
     "output_type": "stream",
     "text": [
      "no news\n"
     ]
    }
   ],
   "source": [
    "if lastupdate > 9 and schlussresultat == False:\n",
    "    trend_text = str()\n",
    "    for resultat in resultate_parteien:\n",
    "        if resultat['partei_bezeichnung'] in parteiliste:\n",
    "            satz = resultat['partei_bezeichnung'] + \": \"\n",
    "            if resultat['differenz_partei_staerke']>2.5:\n",
    "                satz = satz + \"Liegt deutlich im Plus. (\" + str(resultat['differenz_partei_staerke']) +\") \\n\"\n",
    "            elif resultat['differenz_partei_staerke']>0.2:\n",
    "                satz = satz + \"Liegt im Plus. (\" + str(resultat['differenz_partei_staerke']) +\") \\n\"\n",
    "            elif resultat['differenz_partei_staerke']<0.2 and resultat['differenz_partei_staerke']>-0.2:\n",
    "                satz = satz + \"Bleibt relativ konstant. (\" + str(resultat['differenz_partei_staerke']) +\") \\n\"\n",
    "            elif resultat['differenz_partei_staerke']<-2.5:\n",
    "                satz = satz + \"Wähleranteil sinkt deutlich. (\" + str(resultat['differenz_partei_staerke']) +\") \\n\"\n",
    "            elif resultat['differenz_partei_staerke']<-0.2:\n",
    "                satz = satz + \"Wähleranteil sinkt. (\" + str(resultat['differenz_partei_staerke']) +\") \\n\"\n",
    "            trend_text = trend_text + satz\n",
    "        else:\n",
    "            continue\n",
    "    trend_text = \"*```Trendrechnung Nationalrat:```*\\n Stand nach \" + str(gebiete_ausgezaehlt) + \" von \" + str(gebiete_total) + \" ausgezählten Gebieten. (Vergleich zu 2015)\\n\" + trend_text\n",
    "    #send-message\n",
    "    response = client.chat_postMessage(\n",
    "        channel='#wahlen19-zh-results',\n",
    "        text=trend_text)\n",
    "    #save auszählungsstand\n",
    "    updatefile = open(\"update_nr_parteien_muss_null_sein_am_anfang.txt\",\"w\")#write mode \n",
    "    updatefile.write(gebiete_ausgezaehlt) \n",
    "    updatefile.close() \n",
    "else:\n",
    "    print('no news')"
   ]
  },
  {
   "cell_type": "code",
   "execution_count": 19,
   "metadata": {},
   "outputs": [
    {
     "name": "stdout",
     "output_type": "stream",
     "text": [
      "not finished yet\n"
     ]
    }
   ],
   "source": [
    "if schlussresultat == True and done!=\"True\":\n",
    "    trend_text = str()\n",
    "    for resultat in resultate_parteien:\n",
    "        if resultat['partei_bezeichnung'] in parteiliste:\n",
    "            satz = resultat['partei_bezeichnung'] + \": \"\n",
    "            if resultat['differenz_partei_staerke']>2:\n",
    "                satz = satz + \"Legt deutlich zu. \" + str(resultat['partei_staerke']) + \"% (\" + str(resultat['differenz_partei_staerke']) + \")\"+ \" | \" + str(resultat['anz_gewaehlte'])+ \" Sitze / \" + str(resultat['differenz_anz_gewaehlte'])+\" \\n\"\n",
    "            elif resultat['differenz_partei_staerke']>0.3:\n",
    "                satz = satz + \"Legt zu. \" + str(resultat['partei_staerke']) + \"% (\" + str(resultat['differenz_partei_staerke']) + \")\"+ \" | \" + str(resultat['anz_gewaehlte'])+ \" Sitze / \" + str(resultat['differenz_anz_gewaehlte'])+\" \\n\"\n",
    "            elif resultat['differenz_partei_staerke']<0.3 and resultat['differenz_partei_staerke']>-0.3:\n",
    "                satz = satz + \"Bleibt relativ konstant. \" + str(resultat['partei_staerke']) + \"% (\" + str(resultat['differenz_partei_staerke']) + \")\"+ \" | \" + str(resultat['anz_gewaehlte'])+ \" Sitze / \" + str(resultat['differenz_anz_gewaehlte'])+\" \\n\"\n",
    "            elif resultat['differenz_partei_staerke']<-2:\n",
    "                satz = satz + \"Wähleranteil sinkt deutlich. \" + str(resultat['partei_staerke']) + \"(\" + str(resultat['differenz_partei_staerke']) + \")\"+ \" | \" + str(resultat['anz_gewaehlte'])+ \" Sitze / \" + str(resultat['differenz_anz_gewaehlte'])+\" \\n\"\n",
    "            elif resultat['differenz_partei_staerke']<-0.3:\n",
    "                satz = satz + \"Wähleranteil sinkt. \" + str(resultat['partei_staerke']) + \"% (\" + str(resultat['differenz_partei_staerke']) + \")\"+ \" | \" + str(resultat['anz_gewaehlte'])+ \" Sitze / \" + str(resultat['differenz_anz_gewaehlte'])+\" \\n\"\n",
    "            trend_text = trend_text + satz\n",
    "        else:\n",
    "            continue\n",
    "    trend_text = \"*```Schlussresultat Nationalrat:```*\\n\\n \" + trend_text\n",
    "    #send-message\n",
    "    response = client.chat_postMessage(\n",
    "        channel='#wahlen19-zh-results',\n",
    "        text=trend_text)\n",
    "    # finde die neu- und abgewählten und schicke das gleich auch noch\n",
    "    kandidierende = url_nr_resultat_kandidierende\n",
    "    response = requests.get(kandidierende)\n",
    "    data = response.json()\n",
    "    df = pd.DataFrame(data['kandidaten'])\n",
    "    df['liste_bezeichnung'] = df.liste_bezeichnung.str.replace('glp','GLP')\n",
    "    df['liste_bezeichnung'] = df.liste_bezeichnung.str.replace('GRÜNE','Grüne')\n",
    "    df['namen'] = df['vorname'] + \" \" + df['name'] + \" (\" + df['liste_bezeichnung'] +\")\"\n",
    "    neugewaehlt = df[['namen']][(df['flag_gewaehlt']==True) & (df['bisher']==False)].to_string()\n",
    "    abgewaehlt = df[['namen']][(df['flag_gewaehlt']==False) & (df['bisher']==True)].to_string()\n",
    "    response = client.chat_postMessage(\n",
    "            channel='#wahlen19-zh-results',\n",
    "            text=\"*```Das sind die Neuen im Nationalrat```*: \\n\" + neugewaehlt)\n",
    "    response = client.chat_postMessage(\n",
    "        channel='#wahlen19-zh-results',\n",
    "        text=\"*```Sie haben die Wiederwahl verpasst: ```*: \\n\" + abgewaehlt)\n",
    "    #save auszählungsstand\n",
    "    updatefile = open(\"update_nr_parteien_muss_null_sein_am_anfang.txt\",\"w\")#write mode \n",
    "    updatefile.write(gebiete_ausgezaehlt) \n",
    "    updatefile.close()\n",
    "    updatefile = open(\"nr_fertig.txt\",\"w\")#write mode \n",
    "    updatefile.write(str(schlussresultat)) \n",
    "    updatefile.close()\n",
    "else:\n",
    "    print('not finished yet')"
   ]
  },
  {
   "cell_type": "markdown",
   "metadata": {},
   "source": [
    "# Ständerat Hochrechnungen"
   ]
  },
  {
   "cell_type": "code",
   "execution_count": null,
   "metadata": {},
   "outputs": [],
   "source": []
  },
  {
   "cell_type": "code",
   "execution_count": 20,
   "metadata": {},
   "outputs": [],
   "source": [
    "#Daten Hochrechnung\n",
    "time.sleep(1)\n",
    "response = requests.get(url_sr_hoch)\n",
    "data = response.json()"
   ]
  },
  {
   "cell_type": "code",
   "execution_count": 21,
   "metadata": {},
   "outputs": [],
   "source": [
    "hoch_sr_zeitpunkt = data['hochrechnung_fuer_kandidaten_metadaten']['zeitpunkt_der_hochrechnung']\n",
    "lastupdate = open(\"hr_update_sr_personen.txt\",\"r\").read()"
   ]
  },
  {
   "cell_type": "code",
   "execution_count": 22,
   "metadata": {},
   "outputs": [],
   "source": [
    "data_available = len(data['hochrechnung_fuer_kandidaten'])"
   ]
  },
  {
   "cell_type": "code",
   "execution_count": 23,
   "metadata": {},
   "outputs": [
    {
     "name": "stdout",
     "output_type": "stream",
     "text": [
      "no news\n"
     ]
    }
   ],
   "source": [
    "hochrechnung_sr_text = str()\n",
    "if hoch_sr_zeitpunkt != lastupdate and data_available > 0:\n",
    "    abs_mehr_upper = data['hochrechnung_fuer_absolutes_mehr']['vtupper']\n",
    "    abs_mehr_lower = data['hochrechnung_fuer_absolutes_mehr']['vtlower']\n",
    "    abs_mehr = data['hochrechnung_fuer_absolutes_mehr']['stimmenzahl']\n",
    "    kandidaten = data['hochrechnung_fuer_kandidaten']\n",
    "    kandidaten = sorted(kandidaten, key = lambda i: i['stimmenzahl'], reverse=True) \n",
    "    hochrechnung_sr_text = \"*```Hochrechnung Ständerat: \"+ hoch_sr_zeitpunkt +\"```*\\n\"\n",
    "\n",
    "    for kandidat in kandidaten:\n",
    "        \n",
    "        name = kandidat['vorname'] + \" \" + kandidat['name']\n",
    "        stimmenzahl = str(kandidat['stimmenzahl'] * 1000)\n",
    "        lower = kandidat['vtlower']\n",
    "        upper = kandidat['vtupper']\n",
    "        absmehrsatz = 'Die Prognose hat noch deutliche Unsicherheiten.'\n",
    "        if lower > abs_mehr_upper:\n",
    "            absmehrsatz = 'Das reicht für das absolute Mehr. :white_check_mark:'\n",
    "        elif lower > abs_mehr:\n",
    "            absmehrsatz = 'Das reicht wahrscheinlich für das absolute Mehr. :ballo_box_with_check:'\n",
    "        elif upper < abs_mehr_lower:\n",
    "            absmehrsatz = 'Absolutes Mehr nicht erreicht. :x:'\n",
    "        elif upper < abs_mehr:\n",
    "            absmehrsatz = 'Absolutes wahrscheinlich nicht erreicht. '\n",
    "        kanidaten_text = \"*\"+name + \"*: \" + stimmenzahl + \" Stimmen. \" + absmehrsatz+\"\\n\\n\"\n",
    "        hochrechnung_sr_text = hochrechnung_sr_text + kanidaten_text\n",
    "        #send-message\n",
    "    response = client.chat_postMessage(\n",
    "        channel='#wahlen19-zh-results',\n",
    "        text=hochrechnung_sr_text)\n",
    "    #save hochrechnung update\n",
    "    updatefile = open(\"hr_update_sr_personen.txt\",\"w\")#write mode \n",
    "    updatefile.write(hoch_sr_zeitpunkt) \n",
    "    updatefile.close()\n",
    "else:\n",
    "    print('no news')"
   ]
  },
  {
   "cell_type": "markdown",
   "metadata": {},
   "source": [
    "### Eurovision-Song-Contest-Battle"
   ]
  },
  {
   "cell_type": "code",
   "execution_count": 24,
   "metadata": {},
   "outputs": [],
   "source": [
    "def get_gewinner(row):\n",
    "    satz = row['namen'] + \" gewinnt \" + str(row[True]) + \" Gebiete.\"\n",
    "    return satz"
   ]
  },
  {
   "cell_type": "code",
   "execution_count": 25,
   "metadata": {},
   "outputs": [],
   "source": [
    "response = requests.get(url_sr_resultat_gemeinde)\n",
    "data = response.json()\n",
    "gebiete_abgeschlossen = data['metadaten']['stand']['stand_kantonsebene_gebiete']['gebiete_abgeschlossen']\n",
    "last_update = open(\"update_sr_personen_muss_null_sein_am_anfang.txt\",\"r\").read()"
   ]
  },
  {
   "cell_type": "code",
   "execution_count": 26,
   "metadata": {},
   "outputs": [],
   "source": [
    "wait_for_eurovision = gebiete_abgeschlossen - int(last_update)"
   ]
  },
  {
   "cell_type": "code",
   "execution_count": 27,
   "metadata": {},
   "outputs": [
    {
     "name": "stdout",
     "output_type": "stream",
     "text": [
      "no news\n"
     ]
    }
   ],
   "source": [
    "#Daten Resultate\n",
    "if wait_for_eurovision > 19 and gebiete_abgeschlossen > 0:\n",
    "    df_sr_results = pd.DataFrame(data['kandidaten'])\n",
    "    df_sr_results['namen'] = df_sr_results['vorname'] + \" \" + df_sr_results['name']\n",
    "    df = df_sr_results[~df_sr_results['stimmen_kandidat'].isna()]\n",
    "    #Merge Maximal-Stimmen pro Gemeinde an Datensatz\n",
    "    df_max = df.merge(df.groupby(['gemeinde_nummer']).stimmen_kandidat.max().reset_index(), on='gemeinde_nummer')\n",
    "    #Generiere Spalte mit den jeweiligen Gewinnern der Gemeinde\n",
    "    df_max['gewinnt'] = df_max['stimmen_kandidat_x'] == df_max['stimmen_kandidat_y']\n",
    "    gewinner = df_max[df_max['gewinnt']==True].groupby('namen').gewinnt.value_counts().unstack().sort_values(True, ascending=False).reset_index()\n",
    "    saetze = gewinner[['namen',True]].apply(get_gewinner,axis=1).to_string()\n",
    "    response = client.chat_postMessage(\n",
    "          channel='#wahlen19-zh-results',\n",
    "        text=\"*```Eurovision-Contest des Ständerats```* \\n(\"  + str(gebiete_abgeschlossen) + \") ausgezählt \\n\" + saetze)\n",
    "    updatefile = open(\"update_sr_personen_muss_null_sein_am_anfang.txt\",\"w\")#write mode \n",
    "    updatefile.write(str(gebiete_abgeschlossen)) \n",
    "    updatefile.close()\n",
    "else:\n",
    "    print('no news')"
   ]
  },
  {
   "cell_type": "markdown",
   "metadata": {},
   "source": [
    "# Ständerat Schlussresultat"
   ]
  },
  {
   "cell_type": "code",
   "execution_count": 31,
   "metadata": {},
   "outputs": [],
   "source": [
    "response = requests.get(url_sr_resultat)\n",
    "data = response.json()\n",
    "fertig = data['metadaten']['stand']['wahl_abgeschlossen']\n",
    "done = open(\"sr_fertig.txt\",\"r\").read()"
   ]
  },
  {
   "cell_type": "code",
   "execution_count": 29,
   "metadata": {},
   "outputs": [
    {
     "name": "stdout",
     "output_type": "stream",
     "text": [
      "not finished / or endresults already sent\n"
     ]
    }
   ],
   "source": [
    "if fertig == True and done != 'True':\n",
    "    schluss_sr_text = str()\n",
    "    kandidaten = data['kandidaten']\n",
    "    kandidaten = sorted(kandidaten, key = lambda i: i['stimmen_kandidat'], reverse=True) \n",
    "    for kandidat in kandidaten:\n",
    "        name = str(kandidat['vorname']) + \" \" + str(kandidat['name'])\n",
    "        stimmenzahl = str(kandidat['stimmen_kandidat'])\n",
    "        stimmenprozent = str(kandidat['stimmen_prozent'])\n",
    "        absolutes_mehr = str(kandidat['absolutes_mehr'])\n",
    "        if kandidat['flag_gewaehlt']==1: \n",
    "            kandidaten_text = \"*\"+name + \"*: \" + stimmenzahl + \" Stimmen. (\"+ stimmenprozent+\"%)\" + \":ballo_box_with_check: \\n\\n\"\n",
    "        else:\n",
    "            kandidaten_text = \"*\"+name + \"*: \" + stimmenzahl + \" Stimmen. (\"+ stimmenprozent+\"%)\" + \"\\n\\n\"\n",
    "        schluss_sr_text = schluss_sr_text + kandidaten_text\n",
    "    schluss_sr_text = \"*```Schlussresultat Ständerat```*\\n\" + schluss_sr_text\n",
    "    response = client.chat_postMessage(\n",
    "          channel='#wahlen19-zh-results',\n",
    "        text=schluss_sr_text)\n",
    "else:\n",
    "    print('not finished / or endresults already sent')"
   ]
  },
  {
   "cell_type": "code",
   "execution_count": 30,
   "metadata": {},
   "outputs": [
    {
     "name": "stdout",
     "output_type": "stream",
     "text": [
      "not finished / or endresults already sent\n"
     ]
    }
   ],
   "source": [
    "if fertig == True and done != 'True':\n",
    "    time.sleep(5)\n",
    "    response = requests.get(url_sr_resultat_gemeinde)\n",
    "    data = response.json()\n",
    "    gebiete_abgeschlossen = data['metadaten']['stand']['stand_kantonsebene_gebiete']['gebiete_abgeschlossen']\n",
    "    df_sr_results = pd.DataFrame(data['kandidaten'])\n",
    "    df_sr_results['namen'] = df_sr_results['vorname'] + \" \" + df_sr_results['name']\n",
    "    df = df_sr_results[~df_sr_results['stimmen_kandidat'].isna()]\n",
    "    #Merge Maximal-Stimmen pro Gemeinde an Datensatz\n",
    "    df_max = df.merge(df.groupby(['gemeinde_nummer']).stimmen_kandidat.max().reset_index(), on='gemeinde_nummer')\n",
    "    #Generiere Spalte mit den jeweiligen Gewinnern der Gemeinde\n",
    "    df_max['gewinnt'] = df_max['stimmen_kandidat_x'] == df_max['stimmen_kandidat_y']\n",
    "    gewinner = df_max[df_max['gewinnt']==True].groupby('namen').gewinnt.value_counts().unstack().sort_values(True, ascending=False).reset_index()\n",
    "    saetze = gewinner[['namen',True]].apply(get_gewinner,axis=1).to_string()\n",
    "    response = client.chat_postMessage(\n",
    "          channel='#wahlen19-zh-results',\n",
    "        text=\"*```Eurovision-Contest des Ständerats```*\\n(\"  + str(gebiete_abgeschlossen) + \" ausgezählt) \\n\" + saetze)\n",
    "    updatefile = open(\"sr_fertig.txt\",\"w\")#write mode \n",
    "    updatefile.write(str(fertig)) \n",
    "    updatefile.close()\n",
    "else:\n",
    "    print('not finished / or endresults already sent')"
   ]
  },
  {
   "cell_type": "code",
   "execution_count": null,
   "metadata": {},
   "outputs": [],
   "source": []
  },
  {
   "cell_type": "code",
   "execution_count": null,
   "metadata": {},
   "outputs": [],
   "source": []
  },
  {
   "cell_type": "code",
   "execution_count": null,
   "metadata": {},
   "outputs": [],
   "source": []
  }
 ],
 "metadata": {
  "kernelspec": {
   "display_name": "Python 3",
   "language": "python",
   "name": "python3"
  },
  "language_info": {
   "codemirror_mode": {
    "name": "ipython",
    "version": 3
   },
   "file_extension": ".py",
   "mimetype": "text/x-python",
   "name": "python",
   "nbconvert_exporter": "python",
   "pygments_lexer": "ipython3",
   "version": "3.6.5"
  }
 },
 "nbformat": 4,
 "nbformat_minor": 2
}
